{
 "cells": [
  {
   "cell_type": "code",
   "execution_count": 201,
   "metadata": {},
   "outputs": [],
   "source": [
    "import numpy as np \n",
    "import pandas as pd\n",
    "import seaborn as sns\n",
    "import matplotlib.pyplot as plt\n",
    "import matplotlib.patches as patches\n",
    "raw_data = pd.read_csv('train.csv')\n",
    "boxplots = pd.read_csv('BoxPlots.tsv', sep='\\t', index_col=0)\n",
    "boxplots = boxplots[['normal', 'left', 'right']]\n",
    "data = raw_data.copy()"
   ]
  },
  {
   "cell_type": "markdown",
   "metadata": {},
   "source": [
    "I'm going to extract some additional features and visually explore them. The goal of this workbook and subsequent post is a meta exploration of a dataset. Taking a step back from modeling the idea is to think about how best to get comfortable with a dataset, what to watch out for and why."
   ]
  },
  {
   "cell_type": "code",
   "execution_count": 62,
   "metadata": {},
   "outputs": [],
   "source": [
    "# Make an inference about the passenger given their title\n",
    "title_inferences = {'unmarried_female': ['Miss', 'Mlle', 'Ms', 'Mme'],\n",
    "                    'occupational_title': ['Col', 'Major', 'Capt', 'Dr', 'Rev'],\n",
    "                    'married_female': ['Mrs'],\n",
    "                    'man': ['Mr'],\n",
    "                    'boy': ['Master'],\n",
    "                    'noble': ['Jonkheer', 'Sir', 'Don', 'the Countess', 'Lady']}\n",
    "\n",
    "def map_inference(name, mapping):\n",
    "    start = name.find(',') + 2\n",
    "    end = name.find('.')\n",
    "    passenger_title = name[start:end]      \n",
    "    for title_inference in title_inferences.keys():\n",
    "        if passenger_title in title_inferences[title_inference]:            \n",
    "            return title_inference\n",
    "    \n",
    "data['title_inference'] = data.Name.apply(map_inference, mapping=title_inferences)\n",
    "\n",
    "# Define age groups \n",
    "def age_group(age):\n",
    "    if age <= 10:\n",
    "        return 'Child'\n",
    "    if (age > 10) & (age <= 18):\n",
    "        return 'Teenager'\n",
    "    if (age > 18) & (age <= 25):\n",
    "        return 'Young_adult'\n",
    "    if (age > 25) & (age <= 35):\n",
    "        return 'Adult'\n",
    "    if (age > 35) & (age <= 50):\n",
    "        return 'Middle_age'\n",
    "    if age > 50:\n",
    "        return 'Old'\n",
    "    \n",
    "data['age_group'] = data.Age.apply(age_group)\n",
    "\n",
    "# Traveling without family\n",
    "data['not_with_fam'] = data.apply(lambda row: 'Without' if row.SibSp == 0 and row.Parch == 0 else 'With', axis=1)\n",
    "\n",
    "# Traveling with sibling and/or spouse\n",
    "data['with_sibsp'] = data.apply(lambda row: 'With' if row.SibSp > 0 else 'Without', axis=1)\n",
    "\n",
    "# Traveling with parent and/or child\n",
    "data['with_parchild'] = data.apply(lambda row: 'With' if row.Parch > 0 else 'Without', axis=1)\n",
    "\n",
    "# Traveling on a group ticket\n",
    "data['ticket_headcount'] = data.groupby('Ticket')['Ticket'].transform('count')\n",
    "data['on_group_ticket'] = data.apply(lambda row: 'Group' if row.ticket_headcount > 1 else 'Single', axis=1)\n",
    "data.drop(columns=['ticket_headcount'], inplace=True)"
   ]
  },
  {
   "cell_type": "code",
   "execution_count": 177,
   "metadata": {},
   "outputs": [
    {
     "name": "stdout",
     "output_type": "stream",
     "text": [
      "<class 'pandas.core.frame.DataFrame'>\n",
      "RangeIndex: 891 entries, 0 to 890\n",
      "Data columns (total 12 columns):\n",
      "PassengerId    891 non-null int64\n",
      "Survived       891 non-null int64\n",
      "Pclass         891 non-null int64\n",
      "Name           891 non-null object\n",
      "Sex            891 non-null object\n",
      "Age            714 non-null float64\n",
      "SibSp          891 non-null int64\n",
      "Parch          891 non-null int64\n",
      "Ticket         891 non-null object\n",
      "Fare           891 non-null float64\n",
      "Cabin          204 non-null object\n",
      "Embarked       889 non-null object\n",
      "dtypes: float64(2), int64(5), object(5)\n",
      "memory usage: 83.7+ KB\n"
     ]
    }
   ],
   "source": [
    "data.info()"
   ]
  },
  {
   "cell_type": "code",
   "execution_count": 64,
   "metadata": {},
   "outputs": [
    {
     "name": "stdout",
     "output_type": "stream",
     "text": [
      "\n",
      "Feature: Pclass\n",
      "\n",
      "1: Survival rate 62.96% Group Count = 216\n",
      "2: Survival rate 47.28% Group Count = 184\n",
      "3: Survival rate 24.24% Group Count = 491\n",
      "------------------------------\n",
      "\n",
      "Feature: Sex\n",
      "\n",
      "male: Survival rate 18.89% Group Count = 577\n",
      "female: Survival rate 74.20% Group Count = 314\n",
      "------------------------------\n",
      "\n",
      "Feature: Embarked\n",
      "\n",
      "S: Survival rate 33.70% Group Count = 644\n",
      "C: Survival rate 55.36% Group Count = 168\n",
      "Q: Survival rate 38.96% Group Count = 77\n",
      "nan: Survival rate nan% Group Count = 0\n",
      "------------------------------\n",
      "\n",
      "Feature: SibSp\n",
      "\n",
      "0: Survival rate 34.54% Group Count = 608\n",
      "1: Survival rate 53.59% Group Count = 209\n",
      "2: Survival rate 46.43% Group Count = 28\n",
      "3: Survival rate 25.00% Group Count = 16\n",
      "4: Survival rate 16.67% Group Count = 18\n",
      "5: Survival rate 0.00% Group Count = 5\n",
      "8: Survival rate 0.00% Group Count = 7\n",
      "------------------------------\n",
      "\n",
      "Feature: Parch\n",
      "\n",
      "0: Survival rate 34.37% Group Count = 678\n",
      "1: Survival rate 55.08% Group Count = 118\n",
      "2: Survival rate 50.00% Group Count = 80\n",
      "3: Survival rate 60.00% Group Count = 5\n",
      "4: Survival rate 0.00% Group Count = 4\n",
      "5: Survival rate 20.00% Group Count = 5\n",
      "6: Survival rate 0.00% Group Count = 1\n",
      "------------------------------\n",
      "\n",
      "Feature: title_inference\n",
      "\n",
      "man: Survival rate 15.67% Group Count = 517\n",
      "married_female: Survival rate 79.20% Group Count = 125\n",
      "unmarried_female: Survival rate 70.43% Group Count = 186\n",
      "boy: Survival rate 57.50% Group Count = 40\n",
      "noble: Survival rate 60.00% Group Count = 5\n",
      "occupational_title: Survival rate 27.78% Group Count = 18\n",
      "------------------------------\n",
      "\n",
      "Feature: age_group\n",
      "\n",
      "Young_adult: Survival rate 33.33% Group Count = 162\n",
      "Middle_age: Survival rate 39.87% Group Count = 153\n",
      "Adult: Survival rate 42.35% Group Count = 196\n",
      "None: Survival rate nan% Group Count = 0\n",
      "Old: Survival rate 34.38% Group Count = 64\n",
      "Child: Survival rate 59.38% Group Count = 64\n",
      "Teenager: Survival rate 42.67% Group Count = 75\n",
      "------------------------------\n",
      "\n",
      "Feature: not_with_fam\n",
      "\n",
      "With: Survival rate 50.56% Group Count = 354\n",
      "Without: Survival rate 30.35% Group Count = 537\n",
      "------------------------------\n",
      "\n",
      "Feature: with_sibsp\n",
      "\n",
      "With: Survival rate 46.64% Group Count = 283\n",
      "Without: Survival rate 34.54% Group Count = 608\n",
      "------------------------------\n",
      "\n",
      "Feature: with_parchild\n",
      "\n",
      "Without: Survival rate 34.37% Group Count = 678\n",
      "With: Survival rate 51.17% Group Count = 213\n",
      "------------------------------\n",
      "\n",
      "Feature: on_group_ticket\n",
      "\n",
      "Single: Survival rate 29.80% Group Count = 547\n",
      "Group: Survival rate 52.03% Group Count = 344\n",
      "------------------------------\n"
     ]
    }
   ],
   "source": [
    "# For categorical features calculat survival rate & pasenger total in subgroup within category\n",
    "categorical_features = ['Pclass', 'Sex', 'Embarked', 'SibSp', 'Parch', 'title_inference', 'age_group', 'not_with_fam',\n",
    "                        'with_sibsp', 'with_parchild', 'on_group_ticket']\n",
    "\n",
    "for feature in categorical_features:\n",
    "    print(f'\\nFeature: {feature}\\n')\n",
    "    subset = data[['Survived', feature]]   \n",
    "    categories = data[feature].unique()\n",
    "    if categories.dtype in ('float64', 'int64'):\n",
    "        categories = sorted(categories)\n",
    "    for category in categories:\n",
    "        groupset = subset[subset[feature] == category]\n",
    "        groupcould = len(groupset)\n",
    "        print(f'{category}: Survival rate {groupset.Survived.mean():.2%} Group Count = {groupcould}')\n",
    "    print('-'*30)"
   ]
  },
  {
   "cell_type": "code",
   "execution_count": 65,
   "metadata": {},
   "outputs": [],
   "source": [
    "continous_features = ['Age', 'Fare']"
   ]
  },
  {
   "cell_type": "markdown",
   "metadata": {},
   "source": [
    "OK - I have a set of features some of which are continuous and others categorical.\n",
    "\n",
    "I want to explore them.\n",
    "\n",
    "But first, how and why do we label data as continuous or categoric?\n",
    "\n",
    "\n",
    "The numerical values between a range of any two numbers is quintessentially continuous. \n",
    "\n",
    "I'm not thinking of these values as representing anything other than the numbers themselves. \n",
    "\n",
    "So the array of possible values is an infinite expanse. \n",
    "\n",
    "My quintessential categorical was to be sex but I reconsidered and settled with martial status.\n",
    "\n",
    "The differentiating line between classes is whether a feature is more or less similar to either the infinite void or the black & white. \n",
    "\n",
    "\n",
    "The reason I thought about this classification is because the label we apply shapes our thinking about how to explore the feature. \n",
    "\n",
    "For good reason - features like height and weight will have summary statistics but not so for gender. \n",
    "\n",
    "\n",
    "So let's start with Age, look at the summary statistics & the breakdown by survival status."
   ]
  },
  {
   "cell_type": "code",
   "execution_count": 66,
   "metadata": {},
   "outputs": [
    {
     "name": "stdout",
     "output_type": "stream",
     "text": [
      "Feature: Age\n",
      "Count: 714.00\n",
      "Mean: 29.70\n",
      "Std: 14.53\n",
      "Min: 0.42\n",
      "25%: 20.12\n",
      "50%: 28.00\n",
      "75%: 38.00\n",
      "Max: 80.00\n"
     ]
    }
   ],
   "source": [
    "print('Feature: Age')\n",
    "for statistic, value in data.Age.describe().iteritems():\n",
    "    print(f'{statistic.title()}: {value:0.2f}')"
   ]
  },
  {
   "cell_type": "markdown",
   "metadata": {},
   "source": [
    "Of the 891 passengers in the training set we have the age attribute for 714 passengers. \n",
    "\n",
    "The age ranges from less than a year old to 80 with a mean of 30 and a median of 28. \n",
    "\n",
    "I'm interest in how the age range differs between the two passenger outcomes.\n",
    "\n",
    "I could subset the data and recalculate the summary statistics for each set but instead I will use visual assistance from a boxplot."
   ]
  },
  {
   "cell_type": "code",
   "execution_count": 67,
   "metadata": {},
   "outputs": [
    {
     "data": {
      "image/png": "[encoded data removed]",
      "text/plain": [
       "<Figure size 432x288 with 1 Axes>"
      ]
     },
     "metadata": {
      "needs_background": "light"
     },
     "output_type": "display_data"
    }
   ],
   "source": [
    "# Boxplot of Age by Survival Status\n",
    "ax = sns.boxplot(x=\"Age\", y=\"Survived\", data=data, orient=\"h\")"
   ]
  },
  {
   "cell_type": "markdown",
   "metadata": {},
   "source": [
    "The boxplot gives better information about the data distribution and we can easily compare set specific summary statistics.\n",
    "\n",
    "Each box encompasses the interquartile range with a black line denoting the median. \n",
    "\n",
    "The box has whiskers which extend out to the maximum & minimum ages that don't qualify as outliers.\n",
    "\n",
    "An outlier is defined as any value that lies outside of the first/third quartile +- IQR * 1.5.\n",
    "\n",
    "1.5 is used by convention.\n",
    "\n",
    "The data points that lie outside this range are potential outliers and are marked on the boxplot by the black dots. \n",
    "\n",
    "The maximum & minimum range therefore aren't always the actual maximum and minimum values in the dataset.\n",
    "\n",
    "\n",
    "If there are outliers present, the fences will extend out to the maximum/minimum value in the dataset excluding the outliers as defined.\n",
    "\n",
    "If not, the whiskers will extend out to the maximum or minimum observation.\n",
    "\n",
    "This gives a good feel for how the data is dispersed however it doesn't tell everything.\n",
    "\n",
    "To get a visual feel for the shape of the distribution we will use a histogram.\n",
    "\n",
    "1. https://www.autodeskresearch.com/publications/samestats"
   ]
  },
  {
   "cell_type": "markdown",
   "metadata": {},
   "source": [
    "Going back to our example of the prime continuous feature the count of each individual number can be one despite the total count of observations being infinity.\n",
    "\n",
    "So the count of individual observations for a continuous feature may not give us an intuitive feel for how densely the observations fall around certain values. \n",
    "\n",
    "To combat this we group observations in bins and use a histogram to plot the count in each bin.\n",
    "\n",
    "Below is a histogram continuing the theme of subplots for each passenger outcome."
   ]
  },
  {
   "cell_type": "code",
   "execution_count": 179,
   "metadata": {},
   "outputs": [
    {
     "data": {
      "image/png": "[encoded data removed]",
      "text/plain": [
       "<Figure size 432x288 with 1 Axes>"
      ]
     },
     "metadata": {
      "needs_background": "light"
     },
     "output_type": "display_data"
    }
   ],
   "source": [
    "Survived = data[data.Survived.isin([1])]\n",
    "Deceased = data[data.Survived.isin([0])]\n",
    "bins = list(range(0, 85, 2))\n",
    " \n",
    "plt.hist(Survived.Age[Survived.Age.notnull()], bins=bins, alpha=0.5, label='Survived', edgecolor='black')\n",
    "plt.hist(Deceased.Age[Deceased.Age.notnull()], bins=bins, alpha=0.5, label='Deceased', edgecolor='black')\n",
    "plt.legend(loc='upper right')\n",
    "plt.title('Survival Count in Age Groups')\n",
    "plt.xlabel('Age Groups')\n",
    "plt.ylabel('Passenger Count')\n",
    "plt.show()"
   ]
  },
  {
   "cell_type": "markdown",
   "metadata": {},
   "source": [
    "I have chosen the bins as spanning 2 years over the range of values in the dataset because it intuitive to grasp with Age as the feature. \n",
    "\n",
    "The histogram gives a view on the data's shape that is hidden from us with the boxplot.\n",
    "\n",
    "It is particularly useful in identifying whether the data contains significant clusters of observations outside of the  peak, or whether the dataset contains multiple peaks.\n",
    "\n",
    "Above we can see a small cluster of younger passengers between 0 & 6 years old.\n",
    "\n",
    "Clusters outside of the modal peak can be hidden from a boxplot. \n",
    "\n",
    "There has been excellent research done here to show the limitations of the boxplot in accessing data distributions.\n",
    "\n",
    "The boxplot is the same of all three distributions below but clearly they are radically different."
   ]
  },
  {
   "cell_type": "code",
   "execution_count": 181,
   "metadata": {},
   "outputs": [
    {
     "data": {
      "text/plain": [
       "[]"
      ]
     },
     "execution_count": 181,
     "metadata": {},
     "output_type": "execute_result"
    },
    {
     "data": {
      "image/png": "[encoded data removed]",
      "text/plain": [
       "<Figure size 432x288 with 4 Axes>"
      ]
     },
     "metadata": {
      "needs_background": "light"
     },
     "output_type": "display_data"
    }
   ],
   "source": [
    "# set up figure & add subplots\n",
    "fig = plt.figure()\n",
    "fig.suptitle('Different distributions, Same Boxplot', fontsize=16)\n",
    "ax1 = fig.add_subplot(3,2,1)\n",
    "ax2 = fig.add_subplot(3,2,3)\n",
    "ax3 = fig.add_subplot(3,2,5)\n",
    "ax4 = fig.add_subplot(1,3,3)\n",
    "\n",
    "# plot histograms vs boxplot\n",
    "ax1.hist(boxplots['normal'], bins=20)\n",
    "ax1.set_xticklabels([])\n",
    "ax1.set_xticks([])\n",
    "ax2.hist(boxplots['left'], bins=20)\n",
    "ax2.set_xticklabels([])\n",
    "ax2.set_xticks([])\n",
    "ax2.set_ylabel('Count')\n",
    "ax3.hist(boxplots['left'], bins=20)\n",
    "ax3.set_xlabel('Values')\n",
    "ax4.boxplot(boxplots['left'])\n",
    "ax4.set_xticks([])"
   ]
  },
  {
   "cell_type": "markdown",
   "metadata": {},
   "source": [
    "When looking at a histogram we actively or passively make assumptions about the underlying population distribution from the shape presented. \n",
    "\n",
    "The question we are trying to answer concerns the population distribution but we infer from the sample plotted.  \n",
    "\n",
    "To aid this histograms can be plotted as relative densities. \n",
    "\n",
    "Relative density is the width of each bar * the relative proportion of observations within each bin as a proportion of the total observations. \n",
    "\n",
    "Where histograms fall short is the their assumptions regarding bin width, because the bins aren't centered on the data points. \n",
    "\n",
    "Looking at the cluster of young passengers above we are unable to tell if the all the passengers in this set where in the 0-0.2 ran or whether they were evenly spread out amoung the entire bin width. \n",
    "\n",
    "This issue is caused because the blocks aren't centered on the datapoints, instead they are centered over the range of the bin width.\n",
    "\n",
    "What if we can centre a block ontop of each datapoint and plot the stack of overlapping blocks."
   ]
  },
  {
   "cell_type": "code",
   "execution_count": 240,
   "metadata": {},
   "outputs": [
    {
     "data": {
      "text/plain": [
       "<matplotlib.axes._subplots.AxesSubplot at 0x1207ced60>"
      ]
     },
     "execution_count": 240,
     "metadata": {},
     "output_type": "execute_result"
    },
    {
     "data": {
      "image/png": "[encoded data removed]",
      "text/plain": [
       "<Figure size 432x288 with 1 Axes>"
      ]
     },
     "metadata": {
      "needs_background": "light"
     },
     "output_type": "display_data"
    }
   ],
   "source": [
    "# define a figure, x axis value is going to be the age datapoint +/- constant, y value is a constant\n",
    "datapoints = [4, 16, 18, 40]\n",
    "\n",
    "def return_coordinates(point, offset=4):\n",
    "    x_left = point - offset\n",
    "    x_right = point + offset\n",
    "    return (x_left, x_right, y_left, y_right)\n",
    "\n",
    "\n",
    "fig, ax = plt.subplots()\n",
    "for datapoint in datapoints:\n",
    "    ax.add_patch(patches.Rectangle((datapoint - 4, 0), 8, 8))\n",
    "plt.ylim(0, 80)\n",
    "plt.xlim(0, 80)\n",
    "\n",
    "# We know the area coordinates covered by each block by it's value, so if the datapoints value is 19, then we know it \n",
    "# 16.5-21.5 on x axis and 0-5 on y axis. If we track which x-axis area is covered we can adjust blocks up a notch if\n",
    "# they are due to be laid on a covered area. "
   ]
  },
  {
   "cell_type": "code",
   "execution_count": 1,
   "metadata": {},
   "outputs": [],
   "source": [
    "datapoints = (2, 2, 5, 6, 7)\n",
    "return_coordinates = lambda x: (x - 1, x, x + 1)\n",
    "block_coordinates = map(return_coordinates, datapoints)"
   ]
  },
  {
   "cell_type": "code",
   "execution_count": 2,
   "metadata": {},
   "outputs": [
    {
     "data": {
      "text/plain": [
       "[(1, 2, 3), (1, 2, 3), (4, 5, 6), (5, 6, 7), (6, 7, 8)]"
      ]
     },
     "execution_count": 2,
     "metadata": {},
     "output_type": "execute_result"
    }
   ],
   "source": [
    "list(block_coordinates)"
   ]
  },
  {
   "cell_type": "code",
   "execution_count": 3,
   "metadata": {},
   "outputs": [
    {
     "ename": "IndentationError",
     "evalue": "expected an indented block (<ipython-input-3-526affffa668>, line 7)",
     "output_type": "error",
     "traceback": [
      "\u001b[0;36m  File \u001b[0;32m\"<ipython-input-3-526affffa668>\"\u001b[0;36m, line \u001b[0;32m7\u001b[0m\n\u001b[0;31m    print(dimensions)\u001b[0m\n\u001b[0m                     ^\u001b[0m\n\u001b[0;31mIndentationError\u001b[0m\u001b[0;31m:\u001b[0m expected an indented block\n"
     ]
    }
   ],
   "source": [
    "dimensions = [[]]\n",
    "\n",
    "for block in block_coordinates:\n",
    "    for mini_block in block:\n",
    "        # If miniblock now in dimension add it into the dimension \n",
    "        # If minimblock now in any dimensions, add another dimension with it in it \n",
    "print(dimensions)"
   ]
  },
  {
   "cell_type": "markdown",
   "metadata": {},
   "source": [
    "KDE with violin plots.\n",
    "\n",
    "How density estimation works.\n",
    "\n",
    "Visual dangers of smooth KDE, black swan in the ranks.\n",
    "\n",
    "Plots are used to get a quick feel for the attributes of a dataset and there is a tradeoff between simplifying matters so their major points are be quickly grasped and rubbing over intricacies that turn out to be significant.\n",
    "\n",
    "The histogram is a plot of raw data so at least you know where the data are."
   ]
  }
 ],
 "metadata": {
  "kernelspec": {
   "display_name": "Python 3",
   "language": "python",
   "name": "python3"
  },
  "language_info": {
   "codemirror_mode": {
    "name": "ipython",
    "version": 3
   },
   "file_extension": ".py",
   "mimetype": "text/x-python",
   "name": "python",
   "nbconvert_exporter": "python",
   "pygments_lexer": "ipython3",
   "version": "3.8.1"
  }
 },
 "nbformat": 4,
 "nbformat_minor": 4
}
