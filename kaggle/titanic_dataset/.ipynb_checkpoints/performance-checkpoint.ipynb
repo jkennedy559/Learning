{
 "cells": [
  {
   "cell_type": "code",
   "execution_count": 1,
   "metadata": {},
   "outputs": [],
   "source": [
    "import numpy as np \n",
    "import pandas as pd\n",
    "import seaborn as sb\n",
    "import matplotlib.pyplot as plt\n",
    "from logistic_regression import predict, update_parameters, gradient_descent, compute_cost\n",
    "raw_data = pd.read_csv('train.csv')\n",
    "data = raw_data.copy()"
   ]
  },
  {
   "cell_type": "markdown",
   "metadata": {},
   "source": [
    "### Refit Model\n",
    "* After my original post on logistic regression I thought I could quickly cover model optimisation. \n",
    "\n",
    "* This was very short sighted as there is too much to cover so I'm pivoting away from that idea.\n",
    "\n",
    "* Instead I will post a series of notes covering concepts along the way to *hopefully* improving model performance on the Kaggle Titanic dataset.\n",
    "\n",
    "* This post is going to cover accessing performance with a binary classifier.\n",
    "\n",
    "\n",
    "* Going back to where I left off, I'm going to reuse the homebrewed functions to refit model parameters except this time I'll split the data 80/20 into training & holdout sets.\n",
    "\n",
    "* The model will be trained on the training set and it's performance will be accessing against the holdout set.\n",
    "\n",
    "* Why do this?\n",
    "\n",
    "* A classification model is useful when it makes accurate predictions on unseen data.\n",
    "\n",
    "* Unseen in the sense that the data hasn't been used by the model in training.\n",
    "\n",
    "* If we create a model we intend to deploy we need some method to access how well we think its performance will be on unseen data.\n",
    "\n",
    "* This why some data is withheld from the model during the training phase and is used to estimate how well we expect the model to predict on unseen cases."
   ]
  },
  {
   "cell_type": "code",
   "execution_count": 2,
   "metadata": {},
   "outputs": [
    {
     "name": "stdout",
     "output_type": "stream",
     "text": [
      "Model Survival as a function of Bias Term, Pclass, Age, Sex_female, Sex_male, Embarked_C, Embarked_Q, Embarked_S.\n",
      "\n",
      "Iteration: 0 Cost = 0.6931471805599453\n",
      "Iteration: 1000 Cost = 0.52106220252457\n",
      "Iteration: 2000 Cost = 0.4916651474817609\n",
      "Iteration: 3000 Cost = 0.4806661916329501\n",
      "Iteration: 4000 Cost = 0.4747131468102821\n",
      "Iteration: 5000 Cost = 0.4707040054332811\n",
      "Iteration: 6000 Cost = 0.4677153584963639\n",
      "Iteration: 7000 Cost = 0.4653834488713755\n",
      "Iteration: 8000 Cost = 0.46352060958013797\n",
      "Iteration: 9000 Cost = 0.4620099684708816\n",
      "Iteration: 10000 Cost = 0.4607709696290571\n",
      "\n",
      "The Model Accuracy on the training data = 0.79\n"
     ]
    },
    {
     "data": {
      "image/png": "[encoded data removed]",
      "text/plain": [
       "<Figure size 432x288 with 1 Axes>"
      ]
     },
     "metadata": {
      "needs_background": "light"
     },
     "output_type": "display_data"
    }
   ],
   "source": [
    "# Randomly shuffle data\n",
    "data = data.sample(frac=1, random_state=42)\n",
    "\n",
    "# Split 80/20 into train & holdout \n",
    "train, holdout = np.split(data, [int(.8*len(data))])\n",
    "\n",
    "def preprocess(data):  \n",
    "    # Fill missing data with mean and mode\n",
    "    data.Age = data.Age.fillna(data.Age.mean())  \n",
    "    data.Embarked = data.Embarked.fillna('S') \n",
    "    \n",
    "    # Convert categorical features & drop unused features\n",
    "    data = pd.get_dummies(data, columns = ['Sex', 'Embarked']) \n",
    "    data.drop(columns=['SibSp', 'Parch', 'Ticket', 'Fare', 'Cabin', 'Name', 'PassengerId'], inplace=True) \n",
    "    \n",
    "    # Drop target & record feature names\n",
    "    features = data.drop(columns=['Survived'])\n",
    "    names = features.columns \n",
    "    names = names.insert(0,'Bias Term')\n",
    "    \n",
    "    # Convert to numpy\n",
    "    features = features.to_numpy()  \n",
    "    target = data['Survived'].to_numpy()\n",
    "    \n",
    "    # Add bias feature initalised as zeros\n",
    "    features = np.column_stack((np.ones(len(features)), features)) \n",
    "    \n",
    "    return(target, features, names)\n",
    "\n",
    "target_train, features_train, names = preprocess(train)\n",
    "\n",
    "print(f'Model Survival as a function of {\", \".join(names)+\".\"}\\n') # Print model form  \n",
    "\n",
    "# Initalise parameters as vector of zeros\n",
    "parameters = np.zeros(8)\n",
    "\n",
    "# Fit model parameters on the training data\n",
    "model_parameters, log = gradient_descent(features_train, parameters, target_train, \n",
    "                                         learning_rate=0.008, iterations=10001)\n",
    "\n",
    "# Make predictions on the training data\n",
    "predictions = predict(features_train, model_parameters)\n",
    "threshold = 0.50\n",
    "binary_predictions = [1 if prediction >= threshold else 0 for prediction in predictions]\n",
    "binary_predictions = np.asarray(binary_predictions)\n",
    "\n",
    "# Compute model accurancy \n",
    "accurancy = sum(target_train == binary_predictions)/len(target_train)\n",
    "print(f'\\nThe Model Accuracy on the training data = {accurancy:0.2f}')\n",
    "\n",
    "# Plot learning curve\n",
    "fig, ax = plt.subplots()\n",
    "ax.plot(log)\n",
    "ax.set(title='Training Set Learning Curve', xlabel='Iterations', ylabel='Cost')\n",
    "plt.show()"
   ]
  },
  {
   "cell_type": "markdown",
   "metadata": {},
   "source": [
    "### Accuracy, Precision, Recall & F Score"
   ]
  },
  {
   "cell_type": "markdown",
   "metadata": {},
   "source": [
    "* The first metric we can look at is the percentage of passengers we correctly classified as having survived or not, the model's accuracy.\n",
    "\n",
    "* Accuracy is intuitive and for a balanced binary classification problem, where we expect 50% of our cases to be positive and 50% negative, it a useful performance gauge.\n",
    "\n",
    "* The more imbalanced the classification the less useful accuracy becomes. \n",
    "\n",
    "* If 99% of banking transactions aren't fraudulent then we just predict every transaction is honest and we'll be 99% accurate.\n",
    "\n",
    "* Our dataset is 38/62 survival/deceased so let's consider some other performance metrics.\n",
    "\n",
    "\n",
    "* Let's imagine it's the day after the Titanic met its maker - 16th of April 1912. \n",
    "\n",
    "* I'm at the docks in Belfast offering predictions to grieving family members on whether their loved ones have survived the shipwreck given some basic information about them - age, sex, their passenger class and where they embarked from.\n",
    "\n",
    "* A father approaches, hands over the necessary information and I inform him that the prediction is that his son has survived.\n",
    "\n",
    "* Changing places what would I think about this?\n",
    "\n",
    "* The first thing that comes to mind is to ask *OK what's the chances your model's prediction is wrong?*\n",
    "\n",
    "* To answer this question I need more granularity about the models predictions."
   ]
  },
  {
   "cell_type": "code",
   "execution_count": 3,
   "metadata": {},
   "outputs": [
    {
     "data": {
      "image/png": "[encoded data removed]",
      "text/plain": [
       "<Figure size 432x288 with 1 Axes>"
      ]
     },
     "metadata": {
      "needs_background": "light"
     },
     "output_type": "display_data"
    }
   ],
   "source": [
    "# For both class instances, how many did we correctly & incorrectly classify\n",
    "true_positives = sum((binary_predictions == 1) & (target_train == 1))\n",
    "false_negatives = sum((binary_predictions == 0) & (target_train == 0))\n",
    "false_positives = sum((binary_predictions == 1) & (target_train != 1))\n",
    "true_negatives = sum((binary_predictions == 0) & (target_train != 0))\n",
    "\n",
    "# Plot confusion matrix\n",
    "confusion = np.array([(true_positives, true_negatives), (false_positives, false_negatives)])\n",
    "fig, ax = plt.subplots()\n",
    "ax = sb.heatmap(confusion, annot=True, fmt=\"d\", cbar=False,\n",
    "               xticklabels=['Predicted Survival', 'Predicted Deceased'],\n",
    "               yticklabels=['Actual Survival', 'Actual Deceased'],\n",
    "               cmap=['red', 'green','green'])\n",
    "ax.set(title='Confusion Matrix')\n",
    "plt.show()"
   ]
  },
  {
   "cell_type": "markdown",
   "metadata": {},
   "source": [
    "* I took a data science course with General Assembly and I remember having to talk the class through a confusion matrix and being confused myself. \n",
    "\n",
    "* It's not that the concepts are that challenging, it's that the terms sound oxymoronic coming out of your mouth. \n",
    "\n",
    "* Concise use of the terms is a system 2 task and if you rattle through it with system 1 your going to make mistakes.\n",
    "\n",
    "* I digress, back to the point.\n",
    "\n",
    "\n",
    "\n",
    "* Above we have a confusion matrix showing the count of classifications made correctly in the green diagonal.\n",
    "\n",
    "* On the bottom left in red we have passengers where we predicted survival incorrectly and in red top right where we incorrectly predicted deceased.\n",
    "\n",
    "* Using this breakdown of our predictions we can go back to the original query, what's the chances the model's prediction is wrong given it's predicted survival?\n",
    "\n",
    "* We sum the total survival predictions as the ones we made correctly and the ones we made incorrectly \n",
    "\n",
    "* True Positives + False Positives = 189 + 64 =  253 \n",
    "\n",
    "* We can express our incorrect predictions as a percentage of our total survival predictions.\n",
    "\n",
    "* False Positives / (True Positives + False Positives) = 64/253 = 25.29%\n",
    "\n",
    "* So I guess our response to the distressed father is that we got this specific prediction wrong in 25.29% of cases.\n",
    "\n",
    "\n",
    "\n",
    "* We are comparing the models erroneous classifications relative to the total predictions for that classification.\n",
    "\n",
    "* In statistics the concept of accessing classification performance relative to the classifications made is the precision.\n",
    "\n",
    "* Precision is calculated relative to the model's classifications of the positive class, in this case that would be survival.\n",
    "\n",
    "* So the formula is Precision = True Positives / (True Positives + False Positives). \n",
    "\n",
    "\n",
    "\n",
    "* We want to make precise predictions especially in the situation above, a lack a precision will give false hope.\n",
    "\n",
    "* All else equal we can increase precision in logistic regression by increasing the threshold above which we predict the positive class. \n",
    "\n",
    "* Using the model above if we amend the threshold to > 90% output to predict survival we get a precision of 96%.\n",
    "\n",
    "* On predicting survival in the training set the model is really precise, 96% of survival predicts result in survival.\n",
    "\n",
    "* However given this threshold, we don't make many predictions for survival.\n",
    "\n",
    "\n",
    "\n",
    "* Let's go back to the docks with our recalibrated model. \n",
    "\n",
    "* After umming and ahing we now inform the gentleman that we now predict that his son no longer made it, given they don't meet our new ultra high precision threshold. \n",
    "\n",
    "* We explain that the model only predicts survival when it's very certain.\n",
    "\n",
    "* What might he have to say about this.\n",
    "\n",
    "* Given we know we are going to much fewer survival predictions we should check the percentage of actual survivors we correctly classified in training.\n",
    "\n",
    "\n",
    "* With a threshold of 90% we will classify 8% of the total population of survivors in the training set.\n",
    "\n",
    "* Ek, that certainly doesn't sound good.\n",
    "\n",
    "* Amending the threshold allowed us to be 96% certain we were correct when identifying survivors, the problem is that we only identify 8% of survivors in training.\n",
    "\n",
    "* Now this metric can be abused just like precision. \n",
    "\n",
    "* If predict that everyone survives, then we will have correctly classified all the survivors in the training set. \n",
    "\n",
    "* But then... see where I'm going with this.\n",
    "\n",
    "\n",
    "* Both of these metrics give us a different lens with which to access model performance.\n",
    "\n",
    "* Their performance can be manipulated but it's a zero sum game so all else equal increases precision will reduce recall.\n",
    "\n",
    "* There is no right answer to what metric should be the priority and instead a trade off is required that will depend on the problem your model is trying to solve.\n",
    "\n",
    "* I can imagine a model used to hand out criminal justice requiring high precision when classifying a criminal at the expense of recall.\n",
    "\n",
    "* Equally a model used to detect fraudulent transactions may accept a low precision in favor of classifying all fraudulent transactions as fraud.\n",
    "\n",
    "\n",
    "* This is starting to make sense.\n",
    "\n",
    "* So what metric will I use to access the performance of our model? \n",
    "\n",
    "* In our situation I want to make precise predictions when we predict survival and also classify a respectable percentage of the total survivors. \n",
    "\n",
    "* I don't have an operational justification to favor precision over recall or vice versa.\n",
    "\n",
    "\n",
    "\n",
    "* A blend of precision and recall is known as the F score, calculated as the harmonic mean.\n",
    "\n",
    "* I know from the CFA exams the harmonic mean will always be less than or equal to the arithmetic mean.\n",
    "\n",
    "* Situations where the harmonic is less than the arithmetic result from the harmonic punishing imbalances to a greater extent.\n",
    "\n",
    "* This is property that makes it useful in balancing the trade off between precision and recall."
   ]
  },
  {
   "cell_type": "code",
   "execution_count": 4,
   "metadata": {},
   "outputs": [
    {
     "name": "stdout",
     "output_type": "stream",
     "text": [
      "The harmonic mean 0.09, is less than the arithmatic 0.50\n"
     ]
    }
   ],
   "source": [
    "# Dummy values\n",
    "dummy_precision = 0.9\n",
    "dummy_recall = 0.1\n",
    "\n",
    "# Calculate different mean values, note harmonic = F score\n",
    "arithmatic = (dummy_precision + dummy_recall) / 2\n",
    "harmonic = (dummy_precision * dummy_recall)/(dummy_precision + dummy_recall)\n",
    "\n",
    "print(f'The harmonic mean {harmonic:0.2f}, is less than the arithmatic {arithmatic:0.2f}')"
   ]
  },
  {
   "cell_type": "markdown",
   "metadata": {},
   "source": [
    "* To conclude this theory heavy post, I will be using the F score as my performance metric for the Titanic model.\n",
    "* Below is a summary of the performance on the training and holdout sets."
   ]
  },
  {
   "cell_type": "code",
   "execution_count": 9,
   "metadata": {},
   "outputs": [],
   "source": [
    "# Return performance metrics of interest in a dictionary \n",
    "def guage_performance(features, parameters, test, threshold=0.5):\n",
    "    # Make predictions\n",
    "    predictions = predict(features, parameters)\n",
    "    binary_predictions = [1 if prediction >= threshold else 0 for prediction in predictions]\n",
    "    binary_predictions = np.asarray(binary_predictions)\n",
    "    \n",
    "    # Compute model accurancy \n",
    "    accurancy = sum(test == binary_predictions)/len(test)\n",
    "    \n",
    "    # Breakdown of predictions\n",
    "    true_positive = sum((binary_predictions == 1) & (test == 1))\n",
    "    false_negative = sum((binary_predictions == 0) & (test == 0))\n",
    "    false_positive = sum((binary_predictions == 1) & (test != 1))\n",
    "    true_negative = sum((binary_predictions == 0) & (test != 0))\n",
    "\n",
    "    # Compute performance metrics\n",
    "    recall = true_positive/(true_positive + true_negative)\n",
    "    precision = true_positive/(true_positive + false_positive)\n",
    "    F_score = 2 * (precision * recall)/(precision + recall)\n",
    "    \n",
    "    # Results dict_\n",
    "    performance = dict()\n",
    "    performance['accurancy'] = accurancy\n",
    "    performance['recall'] = recall\n",
    "    performance['precision'] = precision\n",
    "    performance['F_score'] = F_score\n",
    "    \n",
    "    return  performance"
   ]
  },
  {
   "cell_type": "markdown",
   "metadata": {},
   "source": [
    "#### Performance Comparison"
   ]
  },
  {
   "cell_type": "code",
   "execution_count": 18,
   "metadata": {},
   "outputs": [
    {
     "name": "stdout",
     "output_type": "stream",
     "text": [
      "Training Set Performance\n",
      "Accurancy: 0.79\n",
      "Recall: 0.69\n",
      "Precision: 0.74\n",
      "F_score: 0.71\n",
      "\n",
      "Holdout Set Performance\n",
      "Accurancy: 0.83\n",
      "Recall: 0.74\n",
      "Precision: 0.77\n",
      "F_score: 0.76\n"
     ]
    }
   ],
   "source": [
    "# Training set performance \n",
    "training_performance = guage_performance(features_train, parameters, target_train)\n",
    "\n",
    "# Holdout set performance \n",
    "target_test, features_test, names = preprocess(holdout)\n",
    "holdout_performance = guage_performance(features_test, parameters, target_test)\n",
    "\n",
    "print(f'Training Set Performance')\n",
    "for key, value in training_performance.items():\n",
    "    print(f'{key.capitalize()}: {value:0.2f}')\n",
    "print(f'\\nHoldout Set Performance')\n",
    "for key, value in holdout_performance.items():\n",
    "    print(f'{key.capitalize()}: {value:0.2f}')"
   ]
  }
 ],
 "metadata": {
  "kernelspec": {
   "display_name": "Python 3",
   "language": "python",
   "name": "python3"
  },
  "language_info": {
   "codemirror_mode": {
    "name": "ipython",
    "version": 3
   },
   "file_extension": ".py",
   "mimetype": "text/x-python",
   "name": "python",
   "nbconvert_exporter": "python",
   "pygments_lexer": "ipython3",
   "version": "3.8.1"
  },
  "widgets": {
   "application/vnd.jupyter.widget-state+json": {
    "state": {},
    "version_major": 2,
    "version_minor": 0
   }
  }
 },
 "nbformat": 4,
 "nbformat_minor": 4
}
